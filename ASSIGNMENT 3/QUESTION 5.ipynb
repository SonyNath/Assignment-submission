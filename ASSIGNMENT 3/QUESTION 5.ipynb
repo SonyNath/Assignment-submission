{
 "cells": [
  {
   "cell_type": "code",
   "execution_count": 2,
   "metadata": {},
   "outputs": [],
   "source": [
    "import numpy as np"
   ]
  },
  {
   "cell_type": "code",
   "execution_count": 13,
   "metadata": {},
   "outputs": [
    {
     "name": "stdout",
     "output_type": "stream",
     "text": [
      "Array A: \n",
      "\t Vertical stacking:: \n",
      " [[1 2 3]\n",
      " [4 5 6]\n",
      " [7 8 9]] \n",
      "\n",
      "\tHorizontal stacking::\n",
      "  [1 2 3 4 5 6 7 8 9] \n",
      "\n",
      "Array B: \n",
      "\t Vertical stacking:: \n",
      " [[10 11 12]\n",
      " [13 14 15]\n",
      " [15 17 18]] \n",
      "\n",
      "\tHorizontal stacking:: \n",
      " [10 11 12 13 14 15 15 17 18] \n",
      "\n"
     ]
    }
   ],
   "source": [
    "X=np.array([ [1,2,3],[4,5,6],[7,8,9]])\n",
    "Y=np.array([[10,11,12],[13,14,15],[15,17,18]])\n",
    "print(\"Array A: \\n\\t Vertical stacking:: \\n\",np.vstack(X),\"\\n\\n\\tHorizontal stacking::\\n \", np.hstack(X),\"\\n\")\n",
    "print(\"Array B: \\n\\t Vertical stacking:: \\n\",np.vstack(Y),\"\\n\\n\\tHorizontal stacking:: \\n\", np.hstack(Y),\"\\n\")"
   ]
  },
  {
   "cell_type": "code",
   "execution_count": null,
   "metadata": {},
   "outputs": [],
   "source": []
  }
 ],
 "metadata": {
  "kernelspec": {
   "display_name": "Python 3",
   "language": "python",
   "name": "python3"
  },
  "language_info": {
   "codemirror_mode": {
    "name": "ipython",
    "version": 3
   },
   "file_extension": ".py",
   "mimetype": "text/x-python",
   "name": "python",
   "nbconvert_exporter": "python",
   "pygments_lexer": "ipython3",
   "version": "3.8.3"
  }
 },
 "nbformat": 4,
 "nbformat_minor": 4
}
