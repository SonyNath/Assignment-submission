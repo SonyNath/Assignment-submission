{
 "cells": [
  {
   "cell_type": "code",
   "execution_count": 1,
   "metadata": {},
   "outputs": [],
   "source": [
    "import numpy as np"
   ]
  },
  {
   "cell_type": "code",
   "execution_count": 21,
   "metadata": {},
   "outputs": [
    {
     "name": "stdout",
     "output_type": "stream",
     "text": [
      "Unique items: [20, 30, 40]\n",
      "No of unique items in the list are: 3\n"
     ]
    }
   ],
   "source": [
    "numbers = [20, 20, 30, 30, 40]\n",
    "\n",
    "\n",
    "def get_unique_numbers(numbers):\n",
    "    unique = []\n",
    "    for number in numbers:\n",
    "        if number in unique:\n",
    "            continue\n",
    "        else:\n",
    "            unique.append(number)\n",
    "    return unique\n",
    "    \n",
    "\n",
    "print(\"Unique items:\",get_unique_numbers(numbers))\n",
    "new_set = set(numbers) \n",
    "print(\"No of unique items in the list are:\", len(new_set))"
   ]
  },
  {
   "cell_type": "code",
   "execution_count": null,
   "metadata": {},
   "outputs": [],
   "source": []
  }
 ],
 "metadata": {
  "kernelspec": {
   "display_name": "Python 3",
   "language": "python",
   "name": "python3"
  },
  "language_info": {
   "codemirror_mode": {
    "name": "ipython",
    "version": 3
   },
   "file_extension": ".py",
   "mimetype": "text/x-python",
   "name": "python",
   "nbconvert_exporter": "python",
   "pygments_lexer": "ipython3",
   "version": "3.8.3"
  }
 },
 "nbformat": 4,
 "nbformat_minor": 4
}
