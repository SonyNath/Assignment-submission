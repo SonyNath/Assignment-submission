{
 "cells": [
  {
   "cell_type": "code",
   "execution_count": 3,
   "metadata": {},
   "outputs": [],
   "source": [
    "import numpy as np"
   ]
  },
  {
   "cell_type": "code",
   "execution_count": 9,
   "metadata": {},
   "outputs": [
    {
     "name": "stdout",
     "output_type": "stream",
     "text": [
      "Enter 5 elements in list 1::\n",
      "2\n",
      "3\n",
      "4\n",
      "5\n",
      "6\n",
      "Enter 5 elements in list 2::\n",
      "8\n",
      "5\n",
      "1\n",
      "2\n",
      "6\n",
      "List 1: [2, 3, 4, 5, 6]\n",
      "List 2: [8, 5, 1, 2, 6]\n",
      "\n",
      "\n",
      "[2 3 4 5 6]\n",
      "[8 5 1 2 6]\n",
      "\n",
      "\n",
      "Concatenating arrays:\n",
      "  [2 3 4 5 6 8 5 1 2 6]\n",
      "\n",
      "\n",
      "Sorted arrays ::\n",
      " [2 3 4 5 6] \n",
      " [1 2 5 6 8]\n"
     ]
    }
   ],
   "source": [
    "l1=[]\n",
    "l2=[]\n",
    "print(\"Enter 5 elements in list 1::\")\n",
    "for i in range(0, 5):\n",
    "    item1 = int(input())\n",
    "    l1.append(item1)\n",
    "print(\"Enter 5 elements in list 2::\")\n",
    "for i in range(0, 5):\n",
    "    item2 = int(input())\n",
    "    l2.append(item2)    \n",
    "print(\"List 1:\",l1)  \n",
    "print(\"List 2:\",l2)\n",
    "print(\"\\n\")\n",
    "\n",
    "#converting list into numpy array\n",
    "arr1= np.array(l1)\n",
    "print(arr1)\n",
    "arr2= np.array(l2)\n",
    "print(arr2)\n",
    "print(\"\\n\")\n",
    "\n",
    "#Concatenate these arrays\n",
    "arr=np.concatenate((arr1, arr2))\n",
    "print(\"Concatenating arrays:\\n \",arr)\n",
    "print(\"\\n\")\n",
    "\n",
    "#sorting of arrays\n",
    "print(\"Sorted arrays ::\\n\",np.sort(arr1), \"\\n\", np.sort(arr2))"
   ]
  },
  {
   "cell_type": "code",
   "execution_count": null,
   "metadata": {},
   "outputs": [],
   "source": []
  }
 ],
 "metadata": {
  "kernelspec": {
   "display_name": "Python 3",
   "language": "python",
   "name": "python3"
  },
  "language_info": {
   "codemirror_mode": {
    "name": "ipython",
    "version": 3
   },
   "file_extension": ".py",
   "mimetype": "text/x-python",
   "name": "python",
   "nbconvert_exporter": "python",
   "pygments_lexer": "ipython3",
   "version": "3.8.3"
  }
 },
 "nbformat": 4,
 "nbformat_minor": 4
}
