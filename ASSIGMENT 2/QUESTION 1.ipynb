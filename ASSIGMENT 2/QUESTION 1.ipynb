{
 "cells": [
  {
   "cell_type": "code",
   "execution_count": 4,
   "metadata": {},
   "outputs": [
    {
     "name": "stdout",
     "output_type": "stream",
     "text": [
      "Enter the 10 numbers ::\n",
      "2\n",
      "3\n",
      "4\n",
      "5\n",
      "6\n",
      "2\n",
      "2\n",
      "8\n",
      "8\n",
      "10\n",
      "Even lists: [2, 4, 6, 2, 2, 8, 8, 10]\n"
     ]
    }
   ],
   "source": [
    "def number(l):\n",
    "    evenlist=[]\n",
    "    for i in l: \n",
    "        if (i % 2 == 0):\n",
    "            evenlist.append(i)\n",
    "    print(\"Even lists:\", evenlist)\n",
    "l=list()\n",
    "print(\"Enter the 10 numbers ::\")\n",
    "for i in range(10):\n",
    "    k=int(input(\"\"))\n",
    "    l.append(k)\n",
    "number(l) \n"
   ]
  },
  {
   "cell_type": "markdown",
   "metadata": {},
   "source": [
    "##### "
   ]
  },
  {
   "cell_type": "code",
   "execution_count": null,
   "metadata": {},
   "outputs": [],
   "source": []
  }
 ],
 "metadata": {
  "kernelspec": {
   "display_name": "Python 3",
   "language": "python",
   "name": "python3"
  },
  "language_info": {
   "codemirror_mode": {
    "name": "ipython",
    "version": 3
   },
   "file_extension": ".py",
   "mimetype": "text/x-python",
   "name": "python",
   "nbconvert_exporter": "python",
   "pygments_lexer": "ipython3",
   "version": "3.8.3"
  }
 },
 "nbformat": 4,
 "nbformat_minor": 4
}
